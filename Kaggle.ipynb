{
 "cells": [
  {
   "cell_type": "code",
   "execution_count": 1,
   "metadata": {},
   "outputs": [],
   "source": [
    "import pandas as pd\n",
    "import numpy as np\n",
    "\n",
    "ruta_netflix = \"../Taller_10/netflix.csv\"\n",
    "df = pd.read_csv(ruta_netflix)"
   ]
  },
  {
   "cell_type": "code",
   "execution_count": 2,
   "metadata": {},
   "outputs": [
    {
     "name": "stdout",
     "output_type": "stream",
     "text": [
      "               title            genre language  imdb_score    premiere  \\\n",
      "0   Notes for My Son            Drama  Spanish         6.3  11/24/2020   \n",
      "1   To Each, Her Own  Romantic comedy   French         5.3   6/24/2018   \n",
      "2      The Lovebirds  Romantic comedy  English         6.1   5/22/2020   \n",
      "3     The Perfection  Horror-thriller  English         6.1   5/24/2019   \n",
      "4  Happy Anniversary  Romantic comedy  English         5.8   3/30/2018   \n",
      "\n",
      "   runtime  year  \n",
      "0       83  2020  \n",
      "1       95  2018  \n",
      "2       87  2020  \n",
      "3       90  2019  \n",
      "4       78  2018  \n"
     ]
    }
   ],
   "source": [
    "print(df.head())"
   ]
  },
  {
   "cell_type": "code",
   "execution_count": null,
   "metadata": {},
   "outputs": [],
   "source": []
  }
 ],
 "metadata": {
  "kernelspec": {
   "display_name": "Python 3",
   "language": "python",
   "name": "python3"
  },
  "language_info": {
   "codemirror_mode": {
    "name": "ipython",
    "version": 3
   },
   "file_extension": ".py",
   "mimetype": "text/x-python",
   "name": "python",
   "nbconvert_exporter": "python",
   "pygments_lexer": "ipython3",
   "version": "3.11.9"
  }
 },
 "nbformat": 4,
 "nbformat_minor": 2
}
